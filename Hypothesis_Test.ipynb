{
 "cells": [
  {
   "cell_type": "markdown",
   "id": "34fbadb8",
   "metadata": {},
   "source": [
    "# Hypothesis testing"
   ]
  },
  {
   "cell_type": "code",
   "execution_count": 1,
   "id": "d9c73864",
   "metadata": {},
   "outputs": [],
   "source": [
    "# Import packages\n",
    "import numpy as np\n",
    "import pandas as pd\n",
    "import matplotlib.pyplot as plt\n",
    "import seaborn as sns\n",
    "import os, json, time\n",
    "from tqdm.notebook import tqdm_notebook\n",
    "import glob\n",
    "import tmdbsimple as tmdb\n",
    "import scipy.stats as stats\n",
    "from statsmodels.stats.multicomp import pairwise_tukeyhsd"
   ]
  },
  {
   "cell_type": "code",
   "execution_count": 2,
   "id": "fcb1e320",
   "metadata": {},
   "outputs": [
    {
     "data": {
      "text/plain": [
       "['Data/fin_tmdb_data_2019.csv', 'Data/fin_tmdb_data_2020.csv']"
      ]
     },
     "execution_count": 2,
     "metadata": {},
     "output_type": "execute_result"
    }
   ],
   "source": [
    "# Use glob to get all filepaths that match the pattern (*=wildcard)\n",
    "tmdb_files = sorted(glob.glob(\"Data/fin_tmdb_data*.csv\"))\n",
    "tmdb_files"
   ]
  },
  {
   "cell_type": "code",
   "execution_count": 3,
   "id": "52f23a97",
   "metadata": {
    "scrolled": true
   },
   "outputs": [
    {
     "data": {
      "text/html": [
       "<div>\n",
       "<style scoped>\n",
       "    .dataframe tbody tr th:only-of-type {\n",
       "        vertical-align: middle;\n",
       "    }\n",
       "\n",
       "    .dataframe tbody tr th {\n",
       "        vertical-align: top;\n",
       "    }\n",
       "\n",
       "    .dataframe thead th {\n",
       "        text-align: right;\n",
       "    }\n",
       "</style>\n",
       "<table border=\"1\" class=\"dataframe\">\n",
       "  <thead>\n",
       "    <tr style=\"text-align: right;\">\n",
       "      <th></th>\n",
       "      <th>imdb_id</th>\n",
       "      <th>adult</th>\n",
       "      <th>backdrop_path</th>\n",
       "      <th>belongs_to_collection</th>\n",
       "      <th>budget</th>\n",
       "      <th>genres</th>\n",
       "      <th>homepage</th>\n",
       "      <th>id</th>\n",
       "      <th>original_language</th>\n",
       "      <th>original_title</th>\n",
       "      <th>...</th>\n",
       "      <th>revenue</th>\n",
       "      <th>runtime</th>\n",
       "      <th>spoken_languages</th>\n",
       "      <th>status</th>\n",
       "      <th>tagline</th>\n",
       "      <th>title</th>\n",
       "      <th>video</th>\n",
       "      <th>vote_average</th>\n",
       "      <th>vote_count</th>\n",
       "      <th>certification</th>\n",
       "    </tr>\n",
       "  </thead>\n",
       "  <tbody>\n",
       "    <tr>\n",
       "      <th>0</th>\n",
       "      <td>0</td>\n",
       "      <td>NaN</td>\n",
       "      <td>NaN</td>\n",
       "      <td>NaN</td>\n",
       "      <td>NaN</td>\n",
       "      <td>NaN</td>\n",
       "      <td>NaN</td>\n",
       "      <td>NaN</td>\n",
       "      <td>NaN</td>\n",
       "      <td>NaN</td>\n",
       "      <td>...</td>\n",
       "      <td>NaN</td>\n",
       "      <td>NaN</td>\n",
       "      <td>NaN</td>\n",
       "      <td>NaN</td>\n",
       "      <td>NaN</td>\n",
       "      <td>NaN</td>\n",
       "      <td>NaN</td>\n",
       "      <td>NaN</td>\n",
       "      <td>NaN</td>\n",
       "      <td>NaN</td>\n",
       "    </tr>\n",
       "    <tr>\n",
       "      <th>1</th>\n",
       "      <td>tt0385887</td>\n",
       "      <td>0.0</td>\n",
       "      <td>/xMHeU84wLQ9uH9acJ0oPgdii9wO.jpg</td>\n",
       "      <td>NaN</td>\n",
       "      <td>26000000.0</td>\n",
       "      <td>[{'id': 18, 'name': 'Drama'}, {'id': 53, 'name...</td>\n",
       "      <td>https://www.motherlessbrooklynfilm.com</td>\n",
       "      <td>504562.0</td>\n",
       "      <td>en</td>\n",
       "      <td>Motherless Brooklyn</td>\n",
       "      <td>...</td>\n",
       "      <td>18377736.0</td>\n",
       "      <td>145.0</td>\n",
       "      <td>[{'english_name': 'English', 'iso_639_1': 'en'...</td>\n",
       "      <td>Released</td>\n",
       "      <td>NaN</td>\n",
       "      <td>Motherless Brooklyn</td>\n",
       "      <td>0.0</td>\n",
       "      <td>6.704</td>\n",
       "      <td>1314.0</td>\n",
       "      <td>R</td>\n",
       "    </tr>\n",
       "    <tr>\n",
       "      <th>2</th>\n",
       "      <td>tt0437086</td>\n",
       "      <td>0.0</td>\n",
       "      <td>/8RKBHHRqOMOLh5qW3sS6TSFTd8h.jpg</td>\n",
       "      <td>NaN</td>\n",
       "      <td>170000000.0</td>\n",
       "      <td>[{'id': 28, 'name': 'Action'}, {'id': 878, 'na...</td>\n",
       "      <td>https://family.20thcenturystudios.com/movies/a...</td>\n",
       "      <td>399579.0</td>\n",
       "      <td>en</td>\n",
       "      <td>Alita: Battle Angel</td>\n",
       "      <td>...</td>\n",
       "      <td>404980543.0</td>\n",
       "      <td>122.0</td>\n",
       "      <td>[{'english_name': 'English', 'iso_639_1': 'en'...</td>\n",
       "      <td>Released</td>\n",
       "      <td>An angel falls. A warrior rises.</td>\n",
       "      <td>Alita: Battle Angel</td>\n",
       "      <td>0.0</td>\n",
       "      <td>7.219</td>\n",
       "      <td>8466.0</td>\n",
       "      <td>PG-13</td>\n",
       "    </tr>\n",
       "    <tr>\n",
       "      <th>3</th>\n",
       "      <td>tt0441881</td>\n",
       "      <td>0.0</td>\n",
       "      <td>/7uacpbrJd9g9xSTLgfyg1NwkAiu.jpg</td>\n",
       "      <td>NaN</td>\n",
       "      <td>23934823.0</td>\n",
       "      <td>[{'id': 10752, 'name': 'War'}, {'id': 28, 'nam...</td>\n",
       "      <td>http://dangerclosemovie.com</td>\n",
       "      <td>508664.0</td>\n",
       "      <td>en</td>\n",
       "      <td>Danger Close: The Battle of Long Tan</td>\n",
       "      <td>...</td>\n",
       "      <td>2078370.0</td>\n",
       "      <td>119.0</td>\n",
       "      <td>[{'english_name': 'English', 'iso_639_1': 'en'...</td>\n",
       "      <td>Released</td>\n",
       "      <td>Outnumbered. Outgunned. Never out of courage</td>\n",
       "      <td>Danger Close: The Battle of Long Tan</td>\n",
       "      <td>0.0</td>\n",
       "      <td>6.863</td>\n",
       "      <td>281.0</td>\n",
       "      <td>R</td>\n",
       "    </tr>\n",
       "    <tr>\n",
       "      <th>4</th>\n",
       "      <td>tt0448115</td>\n",
       "      <td>0.0</td>\n",
       "      <td>/o7JVhqMmrex1TPbmuxl8YXVlcfl.jpg</td>\n",
       "      <td>{'id': 724848, 'name': 'Shazam! Collection', '...</td>\n",
       "      <td>80000000.0</td>\n",
       "      <td>[{'id': 28, 'name': 'Action'}, {'id': 35, 'nam...</td>\n",
       "      <td>http://www.shazammovie.com</td>\n",
       "      <td>287947.0</td>\n",
       "      <td>en</td>\n",
       "      <td>Shazam!</td>\n",
       "      <td>...</td>\n",
       "      <td>366080049.0</td>\n",
       "      <td>132.0</td>\n",
       "      <td>[{'english_name': 'English', 'iso_639_1': 'en'...</td>\n",
       "      <td>Released</td>\n",
       "      <td>Just say the word.</td>\n",
       "      <td>Shazam!</td>\n",
       "      <td>0.0</td>\n",
       "      <td>7.032</td>\n",
       "      <td>8856.0</td>\n",
       "      <td>PG-13</td>\n",
       "    </tr>\n",
       "  </tbody>\n",
       "</table>\n",
       "<p>5 rows × 26 columns</p>\n",
       "</div>"
      ],
      "text/plain": [
       "     imdb_id  adult                     backdrop_path  \\\n",
       "0          0    NaN                               NaN   \n",
       "1  tt0385887    0.0  /xMHeU84wLQ9uH9acJ0oPgdii9wO.jpg   \n",
       "2  tt0437086    0.0  /8RKBHHRqOMOLh5qW3sS6TSFTd8h.jpg   \n",
       "3  tt0441881    0.0  /7uacpbrJd9g9xSTLgfyg1NwkAiu.jpg   \n",
       "4  tt0448115    0.0  /o7JVhqMmrex1TPbmuxl8YXVlcfl.jpg   \n",
       "\n",
       "                               belongs_to_collection       budget  \\\n",
       "0                                                NaN          NaN   \n",
       "1                                                NaN   26000000.0   \n",
       "2                                                NaN  170000000.0   \n",
       "3                                                NaN   23934823.0   \n",
       "4  {'id': 724848, 'name': 'Shazam! Collection', '...   80000000.0   \n",
       "\n",
       "                                              genres  \\\n",
       "0                                                NaN   \n",
       "1  [{'id': 18, 'name': 'Drama'}, {'id': 53, 'name...   \n",
       "2  [{'id': 28, 'name': 'Action'}, {'id': 878, 'na...   \n",
       "3  [{'id': 10752, 'name': 'War'}, {'id': 28, 'nam...   \n",
       "4  [{'id': 28, 'name': 'Action'}, {'id': 35, 'nam...   \n",
       "\n",
       "                                            homepage        id  \\\n",
       "0                                                NaN       NaN   \n",
       "1             https://www.motherlessbrooklynfilm.com  504562.0   \n",
       "2  https://family.20thcenturystudios.com/movies/a...  399579.0   \n",
       "3                        http://dangerclosemovie.com  508664.0   \n",
       "4                         http://www.shazammovie.com  287947.0   \n",
       "\n",
       "  original_language                        original_title  ...      revenue  \\\n",
       "0               NaN                                   NaN  ...          NaN   \n",
       "1                en                   Motherless Brooklyn  ...   18377736.0   \n",
       "2                en                   Alita: Battle Angel  ...  404980543.0   \n",
       "3                en  Danger Close: The Battle of Long Tan  ...    2078370.0   \n",
       "4                en                               Shazam!  ...  366080049.0   \n",
       "\n",
       "   runtime                                   spoken_languages    status  \\\n",
       "0      NaN                                                NaN       NaN   \n",
       "1    145.0  [{'english_name': 'English', 'iso_639_1': 'en'...  Released   \n",
       "2    122.0  [{'english_name': 'English', 'iso_639_1': 'en'...  Released   \n",
       "3    119.0  [{'english_name': 'English', 'iso_639_1': 'en'...  Released   \n",
       "4    132.0  [{'english_name': 'English', 'iso_639_1': 'en'...  Released   \n",
       "\n",
       "                                        tagline  \\\n",
       "0                                           NaN   \n",
       "1                                           NaN   \n",
       "2              An angel falls. A warrior rises.   \n",
       "3  Outnumbered. Outgunned. Never out of courage   \n",
       "4                            Just say the word.   \n",
       "\n",
       "                                  title  video  vote_average vote_count  \\\n",
       "0                                   NaN    NaN           NaN        NaN   \n",
       "1                   Motherless Brooklyn    0.0         6.704     1314.0   \n",
       "2                   Alita: Battle Angel    0.0         7.219     8466.0   \n",
       "3  Danger Close: The Battle of Long Tan    0.0         6.863      281.0   \n",
       "4                               Shazam!    0.0         7.032     8856.0   \n",
       "\n",
       "  certification  \n",
       "0           NaN  \n",
       "1             R  \n",
       "2         PG-13  \n",
       "3             R  \n",
       "4         PG-13  \n",
       "\n",
       "[5 rows x 26 columns]"
      ]
     },
     "execution_count": 3,
     "metadata": {},
     "output_type": "execute_result"
    }
   ],
   "source": [
    "# Use read_csv in a list comprehension and combine with concat to load all files\n",
    "df = pd.concat([pd.read_csv(f) for f in tmdb_files] )\n",
    "df.head()"
   ]
  },
  {
   "cell_type": "code",
   "execution_count": 4,
   "id": "2e8926e8",
   "metadata": {},
   "outputs": [
    {
     "data": {
      "text/html": [
       "<div>\n",
       "<style scoped>\n",
       "    .dataframe tbody tr th:only-of-type {\n",
       "        vertical-align: middle;\n",
       "    }\n",
       "\n",
       "    .dataframe tbody tr th {\n",
       "        vertical-align: top;\n",
       "    }\n",
       "\n",
       "    .dataframe thead th {\n",
       "        text-align: right;\n",
       "    }\n",
       "</style>\n",
       "<table border=\"1\" class=\"dataframe\">\n",
       "  <thead>\n",
       "    <tr style=\"text-align: right;\">\n",
       "      <th></th>\n",
       "      <th>adult</th>\n",
       "      <th>budget</th>\n",
       "      <th>id</th>\n",
       "      <th>popularity</th>\n",
       "      <th>revenue</th>\n",
       "      <th>runtime</th>\n",
       "      <th>video</th>\n",
       "      <th>vote_average</th>\n",
       "      <th>vote_count</th>\n",
       "    </tr>\n",
       "  </thead>\n",
       "  <tbody>\n",
       "    <tr>\n",
       "      <th>count</th>\n",
       "      <td>5538.000000</td>\n",
       "      <td>5.538000e+03</td>\n",
       "      <td>5.538000e+03</td>\n",
       "      <td>5538.000000</td>\n",
       "      <td>5.538000e+03</td>\n",
       "      <td>5538.000000</td>\n",
       "      <td>5538.000000</td>\n",
       "      <td>5538.000000</td>\n",
       "      <td>5538.000000</td>\n",
       "    </tr>\n",
       "    <tr>\n",
       "      <th>mean</th>\n",
       "      <td>0.001625</td>\n",
       "      <td>1.751039e+06</td>\n",
       "      <td>6.278726e+05</td>\n",
       "      <td>4.823958</td>\n",
       "      <td>5.926583e+06</td>\n",
       "      <td>94.935536</td>\n",
       "      <td>0.009570</td>\n",
       "      <td>4.861786</td>\n",
       "      <td>163.105634</td>\n",
       "    </tr>\n",
       "    <tr>\n",
       "      <th>std</th>\n",
       "      <td>0.040284</td>\n",
       "      <td>1.338011e+07</td>\n",
       "      <td>1.093079e+05</td>\n",
       "      <td>10.507809</td>\n",
       "      <td>6.795562e+07</td>\n",
       "      <td>32.844922</td>\n",
       "      <td>0.097367</td>\n",
       "      <td>2.665857</td>\n",
       "      <td>918.947576</td>\n",
       "    </tr>\n",
       "    <tr>\n",
       "      <th>min</th>\n",
       "      <td>0.000000</td>\n",
       "      <td>0.000000e+00</td>\n",
       "      <td>1.304210e+05</td>\n",
       "      <td>0.000000</td>\n",
       "      <td>0.000000e+00</td>\n",
       "      <td>0.000000</td>\n",
       "      <td>0.000000</td>\n",
       "      <td>0.000000</td>\n",
       "      <td>0.000000</td>\n",
       "    </tr>\n",
       "    <tr>\n",
       "      <th>25%</th>\n",
       "      <td>0.000000</td>\n",
       "      <td>0.000000e+00</td>\n",
       "      <td>5.760275e+05</td>\n",
       "      <td>1.142250</td>\n",
       "      <td>0.000000e+00</td>\n",
       "      <td>84.000000</td>\n",
       "      <td>0.000000</td>\n",
       "      <td>3.800000</td>\n",
       "      <td>1.000000</td>\n",
       "    </tr>\n",
       "    <tr>\n",
       "      <th>50%</th>\n",
       "      <td>0.000000</td>\n",
       "      <td>0.000000e+00</td>\n",
       "      <td>6.142010e+05</td>\n",
       "      <td>2.001000</td>\n",
       "      <td>0.000000e+00</td>\n",
       "      <td>95.000000</td>\n",
       "      <td>0.000000</td>\n",
       "      <td>5.700000</td>\n",
       "      <td>6.000000</td>\n",
       "    </tr>\n",
       "    <tr>\n",
       "      <th>75%</th>\n",
       "      <td>0.000000</td>\n",
       "      <td>0.000000e+00</td>\n",
       "      <td>6.580675e+05</td>\n",
       "      <td>4.963250</td>\n",
       "      <td>0.000000e+00</td>\n",
       "      <td>109.000000</td>\n",
       "      <td>0.000000</td>\n",
       "      <td>6.700000</td>\n",
       "      <td>30.000000</td>\n",
       "    </tr>\n",
       "    <tr>\n",
       "      <th>max</th>\n",
       "      <td>1.000000</td>\n",
       "      <td>3.560000e+08</td>\n",
       "      <td>1.189550e+06</td>\n",
       "      <td>416.037000</td>\n",
       "      <td>2.800000e+09</td>\n",
       "      <td>1265.000000</td>\n",
       "      <td>1.000000</td>\n",
       "      <td>10.000000</td>\n",
       "      <td>23897.000000</td>\n",
       "    </tr>\n",
       "  </tbody>\n",
       "</table>\n",
       "</div>"
      ],
      "text/plain": [
       "             adult        budget            id   popularity       revenue  \\\n",
       "count  5538.000000  5.538000e+03  5.538000e+03  5538.000000  5.538000e+03   \n",
       "mean      0.001625  1.751039e+06  6.278726e+05     4.823958  5.926583e+06   \n",
       "std       0.040284  1.338011e+07  1.093079e+05    10.507809  6.795562e+07   \n",
       "min       0.000000  0.000000e+00  1.304210e+05     0.000000  0.000000e+00   \n",
       "25%       0.000000  0.000000e+00  5.760275e+05     1.142250  0.000000e+00   \n",
       "50%       0.000000  0.000000e+00  6.142010e+05     2.001000  0.000000e+00   \n",
       "75%       0.000000  0.000000e+00  6.580675e+05     4.963250  0.000000e+00   \n",
       "max       1.000000  3.560000e+08  1.189550e+06   416.037000  2.800000e+09   \n",
       "\n",
       "           runtime        video  vote_average    vote_count  \n",
       "count  5538.000000  5538.000000   5538.000000   5538.000000  \n",
       "mean     94.935536     0.009570      4.861786    163.105634  \n",
       "std      32.844922     0.097367      2.665857    918.947576  \n",
       "min       0.000000     0.000000      0.000000      0.000000  \n",
       "25%      84.000000     0.000000      3.800000      1.000000  \n",
       "50%      95.000000     0.000000      5.700000      6.000000  \n",
       "75%     109.000000     0.000000      6.700000     30.000000  \n",
       "max    1265.000000     1.000000     10.000000  23897.000000  "
      ]
     },
     "execution_count": 4,
     "metadata": {},
     "output_type": "execute_result"
    }
   ],
   "source": [
    "df.describe()"
   ]
  },
  {
   "cell_type": "code",
   "execution_count": 5,
   "id": "748465d8",
   "metadata": {},
   "outputs": [
    {
     "name": "stdout",
     "output_type": "stream",
     "text": [
      "<class 'pandas.core.frame.DataFrame'>\n",
      "Int64Index: 5540 entries, 0 to 626\n",
      "Data columns (total 26 columns):\n",
      " #   Column                 Non-Null Count  Dtype  \n",
      "---  ------                 --------------  -----  \n",
      " 0   imdb_id                5540 non-null   object \n",
      " 1   adult                  5538 non-null   float64\n",
      " 2   backdrop_path          4454 non-null   object \n",
      " 3   belongs_to_collection  343 non-null    object \n",
      " 4   budget                 5538 non-null   float64\n",
      " 5   genres                 5538 non-null   object \n",
      " 6   homepage               1444 non-null   object \n",
      " 7   id                     5538 non-null   float64\n",
      " 8   original_language      5538 non-null   object \n",
      " 9   original_title         5538 non-null   object \n",
      " 10  overview               5430 non-null   object \n",
      " 11  popularity             5538 non-null   float64\n",
      " 12  poster_path            5465 non-null   object \n",
      " 13  production_companies   5538 non-null   object \n",
      " 14  production_countries   5538 non-null   object \n",
      " 15  release_date           5474 non-null   object \n",
      " 16  revenue                5538 non-null   float64\n",
      " 17  runtime                5538 non-null   float64\n",
      " 18  spoken_languages       5538 non-null   object \n",
      " 19  status                 5538 non-null   object \n",
      " 20  tagline                1930 non-null   object \n",
      " 21  title                  5538 non-null   object \n",
      " 22  video                  5538 non-null   float64\n",
      " 23  vote_average           5538 non-null   float64\n",
      " 24  vote_count             5538 non-null   float64\n",
      " 25  certification          974 non-null    object \n",
      "dtypes: float64(9), object(17)\n",
      "memory usage: 1.1+ MB\n"
     ]
    }
   ],
   "source": [
    "df.info()"
   ]
  },
  {
   "cell_type": "code",
   "execution_count": 6,
   "id": "a3317e1f",
   "metadata": {},
   "outputs": [
    {
     "data": {
      "text/plain": [
       "1"
      ]
     },
     "execution_count": 6,
     "metadata": {},
     "output_type": "execute_result"
    }
   ],
   "source": [
    "df.duplicated().sum()"
   ]
  },
  {
   "cell_type": "code",
   "execution_count": 7,
   "id": "0410cb58",
   "metadata": {},
   "outputs": [
    {
     "data": {
      "text/plain": [
       "0"
      ]
     },
     "execution_count": 7,
     "metadata": {},
     "output_type": "execute_result"
    }
   ],
   "source": [
    "# Remove duplicates\n",
    "df = df.drop_duplicates()\n",
    "df.duplicated().sum()"
   ]
  },
  {
   "cell_type": "code",
   "execution_count": 8,
   "id": "666904de",
   "metadata": {},
   "outputs": [
    {
     "data": {
      "text/plain": [
       "R        358\n",
       "NR       297\n",
       "PG-13    186\n",
       "PG        99\n",
       "G         26\n",
       "NC-17      8\n",
       "Name: certification, dtype: int64"
      ]
     },
     "execution_count": 8,
     "metadata": {},
     "output_type": "execute_result"
    }
   ],
   "source": [
    "df['certification'].value_counts()"
   ]
  },
  {
   "cell_type": "code",
   "execution_count": 9,
   "id": "8e46e08f",
   "metadata": {},
   "outputs": [
    {
     "data": {
      "text/plain": [
       "4565"
      ]
     },
     "execution_count": 9,
     "metadata": {},
     "output_type": "execute_result"
    }
   ],
   "source": [
    "df['certification'].isna().sum()"
   ]
  },
  {
   "cell_type": "code",
   "execution_count": 10,
   "id": "12bd7230",
   "metadata": {},
   "outputs": [],
   "source": [
    "# Dropping Null values from certification\n",
    "df = df.dropna(subset=[\"certification\"])"
   ]
  },
  {
   "cell_type": "code",
   "execution_count": 11,
   "id": "b5dfa719",
   "metadata": {},
   "outputs": [
    {
     "data": {
      "text/plain": [
       "0"
      ]
     },
     "execution_count": 11,
     "metadata": {},
     "output_type": "execute_result"
    }
   ],
   "source": [
    "df['certification'].isna().sum()"
   ]
  },
  {
   "cell_type": "code",
   "execution_count": 12,
   "id": "d8eaaebe",
   "metadata": {},
   "outputs": [
    {
     "data": {
      "text/plain": [
       "0"
      ]
     },
     "execution_count": 12,
     "metadata": {},
     "output_type": "execute_result"
    }
   ],
   "source": [
    "df['revenue'].isna().sum()"
   ]
  },
  {
   "cell_type": "code",
   "execution_count": 13,
   "id": "4979a819",
   "metadata": {
    "scrolled": true
   },
   "outputs": [
    {
     "data": {
      "image/png": "[encoded data removed]",
      "text/plain": [
       "<Figure size 1200x500 with 2 Axes>"
      ]
     },
     "metadata": {},
     "output_type": "display_data"
    }
   ],
   "source": [
    "fig, axes = plt.subplots(ncols=2, sharey=True, figsize=(12,5))\n",
    "# Plot the barplot on the left\n",
    "sns.barplot(data=df, x='certification', y='revenue',ax=axes[0]);\n",
    "# Plot the stripplot on the right\n",
    "sns.stripplot(data=df, x='certification', y='revenue',ax=axes[1],\n",
    "                   hue='certification', edgecolor='white', linewidth=1);"
   ]
  },
  {
   "cell_type": "markdown",
   "id": "57ba72f4",
   "metadata": {},
   "source": [
    "##  Hypothesis test 1\n",
    "1. Null hypothesis: there is no difference in *revenue* between the Movie *certification* groups.\n",
    "1. Alternative Hypothesis: There is a notable statistical difference in *revenue* between the *certification* groups.\n",
    "\n",
    "\n",
    "###   ANOVA test"
   ]
  },
  {
   "cell_type": "code",
   "execution_count": 14,
   "id": "37fe6ef3",
   "metadata": {},
   "outputs": [
    {
     "data": {
      "image/png": "[encoded data removed]",
      "text/plain": [
       "<Figure size 640x480 with 1 Axes>"
      ]
     },
     "metadata": {},
     "output_type": "display_data"
    }
   ],
   "source": [
    "sns.barplot(data=df, x='certification',y='revenue');"
   ]
  },
  {
   "cell_type": "markdown",
   "id": "21e0151d",
   "metadata": {},
   "source": [
    "-  We can see from this plot, that the mean *revenue* fluctuates greatly, depending upon *certification*.\n",
    " *  We will attempt to determine if this is anomalous, or correlated.\n",
    "-  We will perform ANOVA testing, with post hoc Tukey's Pairwise Multiple Comparisons Test."
   ]
  },
  {
   "cell_type": "code",
   "execution_count": 15,
   "id": "67e9826f",
   "metadata": {},
   "outputs": [
    {
     "data": {
      "text/plain": [
       "dict_keys(['R', 'PG-13', 'NR', 'NC-17', 'PG', 'G'])"
      ]
     },
     "execution_count": 15,
     "metadata": {},
     "output_type": "execute_result"
    }
   ],
   "source": [
    "# Create  dictionary. \n",
    "groups = {}\n",
    "# Loop through all unique categories\n",
    "for i in df['certification'].unique():\n",
    "    ## Get series for group and rename\n",
    "    data = df.loc[df['certification']==i,'revenue'].copy()\n",
    "    \n",
    "    # save into the dictionary\n",
    "    groups[i] = data\n",
    "groups.keys()"
   ]
  },
  {
   "cell_type": "code",
   "execution_count": 16,
   "id": "87223b27",
   "metadata": {},
   "outputs": [
    {
     "name": "stderr",
     "output_type": "stream",
     "text": [
      "/opt/homebrew/Caskroom/miniforge/base/envs/dojo-env/lib/python3.9/site-packages/scipy/stats/_stats_py.py:1772: UserWarning: kurtosistest only valid for n>=20 ... continuing anyway, n=8\n",
      "  warnings.warn(\"kurtosistest only valid for n>=20 ... continuing \"\n"
     ]
    },
    {
     "data": {
      "text/html": [
       "<div>\n",
       "<style scoped>\n",
       "    .dataframe tbody tr th:only-of-type {\n",
       "        vertical-align: middle;\n",
       "    }\n",
       "\n",
       "    .dataframe tbody tr th {\n",
       "        vertical-align: top;\n",
       "    }\n",
       "\n",
       "    .dataframe thead th {\n",
       "        text-align: right;\n",
       "    }\n",
       "</style>\n",
       "<table border=\"1\" class=\"dataframe\">\n",
       "  <thead>\n",
       "    <tr style=\"text-align: right;\">\n",
       "      <th></th>\n",
       "      <th>n</th>\n",
       "      <th>p</th>\n",
       "      <th>test stat</th>\n",
       "    </tr>\n",
       "  </thead>\n",
       "  <tbody>\n",
       "    <tr>\n",
       "      <th>R</th>\n",
       "      <td>358.0</td>\n",
       "      <td>2.226561e-120</td>\n",
       "      <td>551.019506</td>\n",
       "    </tr>\n",
       "    <tr>\n",
       "      <th>PG-13</th>\n",
       "      <td>186.0</td>\n",
       "      <td>3.774616e-62</td>\n",
       "      <td>282.863954</td>\n",
       "    </tr>\n",
       "    <tr>\n",
       "      <th>NR</th>\n",
       "      <td>297.0</td>\n",
       "      <td>9.166124e-120</td>\n",
       "      <td>548.189393</td>\n",
       "    </tr>\n",
       "    <tr>\n",
       "      <th>NC-17</th>\n",
       "      <td>8.0</td>\n",
       "      <td>1.034792e-05</td>\n",
       "      <td>22.957449</td>\n",
       "    </tr>\n",
       "    <tr>\n",
       "      <th>PG</th>\n",
       "      <td>99.0</td>\n",
       "      <td>1.059526e-27</td>\n",
       "      <td>124.223951</td>\n",
       "    </tr>\n",
       "    <tr>\n",
       "      <th>G</th>\n",
       "      <td>26.0</td>\n",
       "      <td>1.459239e-14</td>\n",
       "      <td>63.716553</td>\n",
       "    </tr>\n",
       "  </tbody>\n",
       "</table>\n",
       "</div>"
      ],
      "text/plain": [
       "           n              p   test stat\n",
       "R      358.0  2.226561e-120  551.019506\n",
       "PG-13  186.0   3.774616e-62  282.863954\n",
       "NR     297.0  9.166124e-120  548.189393\n",
       "NC-17    8.0   1.034792e-05   22.957449\n",
       "PG      99.0   1.059526e-27  124.223951\n",
       "G       26.0   1.459239e-14   63.716553"
      ]
     },
     "execution_count": 16,
     "metadata": {},
     "output_type": "execute_result"
    }
   ],
   "source": [
    "# Run normal test on each group and confirm there are >20 in each group\n",
    "norm_results = {}\n",
    "for i, data in groups.items():\n",
    "    stat, p = stats.normaltest(data)\n",
    "    # save the p val, test statistic, and the size of the group\n",
    "    norm_results[i] = {'n': len(data),\n",
    "                             'p':p,\n",
    "                             'test stat':stat,}\n",
    "# convert to a dataframe\n",
    "norm_results_df = pd.DataFrame(norm_results).T\n",
    "norm_results_df"
   ]
  },
  {
   "cell_type": "code",
   "execution_count": 17,
   "id": "e7399859",
   "metadata": {},
   "outputs": [
    {
     "data": {
      "text/html": [
       "<div>\n",
       "<style scoped>\n",
       "    .dataframe tbody tr th:only-of-type {\n",
       "        vertical-align: middle;\n",
       "    }\n",
       "\n",
       "    .dataframe tbody tr th {\n",
       "        vertical-align: top;\n",
       "    }\n",
       "\n",
       "    .dataframe thead th {\n",
       "        text-align: right;\n",
       "    }\n",
       "</style>\n",
       "<table border=\"1\" class=\"dataframe\">\n",
       "  <thead>\n",
       "    <tr style=\"text-align: right;\">\n",
       "      <th></th>\n",
       "      <th>n</th>\n",
       "      <th>p</th>\n",
       "      <th>test stat</th>\n",
       "      <th>sig</th>\n",
       "    </tr>\n",
       "  </thead>\n",
       "  <tbody>\n",
       "    <tr>\n",
       "      <th>R</th>\n",
       "      <td>358.0</td>\n",
       "      <td>2.226561e-120</td>\n",
       "      <td>551.019506</td>\n",
       "      <td>True</td>\n",
       "    </tr>\n",
       "    <tr>\n",
       "      <th>PG-13</th>\n",
       "      <td>186.0</td>\n",
       "      <td>3.774616e-62</td>\n",
       "      <td>282.863954</td>\n",
       "      <td>True</td>\n",
       "    </tr>\n",
       "    <tr>\n",
       "      <th>NR</th>\n",
       "      <td>297.0</td>\n",
       "      <td>9.166124e-120</td>\n",
       "      <td>548.189393</td>\n",
       "      <td>True</td>\n",
       "    </tr>\n",
       "    <tr>\n",
       "      <th>NC-17</th>\n",
       "      <td>8.0</td>\n",
       "      <td>1.034792e-05</td>\n",
       "      <td>22.957449</td>\n",
       "      <td>True</td>\n",
       "    </tr>\n",
       "    <tr>\n",
       "      <th>PG</th>\n",
       "      <td>99.0</td>\n",
       "      <td>1.059526e-27</td>\n",
       "      <td>124.223951</td>\n",
       "      <td>True</td>\n",
       "    </tr>\n",
       "    <tr>\n",
       "      <th>G</th>\n",
       "      <td>26.0</td>\n",
       "      <td>1.459239e-14</td>\n",
       "      <td>63.716553</td>\n",
       "      <td>True</td>\n",
       "    </tr>\n",
       "  </tbody>\n",
       "</table>\n",
       "</div>"
      ],
      "text/plain": [
       "           n              p   test stat   sig\n",
       "R      358.0  2.226561e-120  551.019506  True\n",
       "PG-13  186.0   3.774616e-62  282.863954  True\n",
       "NR     297.0  9.166124e-120  548.189393  True\n",
       "NC-17    8.0   1.034792e-05   22.957449  True\n",
       "PG      99.0   1.059526e-27  124.223951  True\n",
       "G       26.0   1.459239e-14   63.716553  True"
      ]
     },
     "execution_count": 17,
     "metadata": {},
     "output_type": "execute_result"
    }
   ],
   "source": [
    "# Check sig with pandas \n",
    "norm_results_df['sig'] = norm_results_df['p'] < .05 \n",
    "norm_results_df"
   ]
  },
  {
   "cell_type": "code",
   "execution_count": 18,
   "id": "be7813c5",
   "metadata": {},
   "outputs": [
    {
     "data": {
      "text/plain": [
       "LeveneResult(statistic=7.812714623614939, pvalue=3.201571535591111e-07)"
      ]
     },
     "execution_count": 18,
     "metadata": {},
     "output_type": "execute_result"
    }
   ],
   "source": [
    "# with the * operator \n",
    "stats.levene(*groups.values())"
   ]
  },
  {
   "cell_type": "code",
   "execution_count": 19,
   "id": "a6a0013e",
   "metadata": {},
   "outputs": [
    {
     "data": {
      "text/plain": [
       "F_onewayResult(statistic=7.812714623614937, pvalue=3.201571535591111e-07)"
      ]
     },
     "execution_count": 19,
     "metadata": {},
     "output_type": "execute_result"
    }
   ],
   "source": [
    "# perform the ANOVA hypothesis test\n",
    "result = stats.f_oneway( *groups.values())\n",
    "result"
   ]
  },
  {
   "cell_type": "code",
   "execution_count": 20,
   "id": "973e4c77",
   "metadata": {},
   "outputs": [],
   "source": [
    "# Save the values and labels \n",
    "values = df['revenue']\n",
    "labels = df['certification']"
   ]
  },
  {
   "cell_type": "code",
   "execution_count": 21,
   "id": "a01334f9",
   "metadata": {},
   "outputs": [
    {
     "data": {
      "text/html": [
       "<table class=\"simpletable\">\n",
       "<caption>Multiple Comparison of Means - Tukey HSD, FWER=0.05</caption>\n",
       "<tr>\n",
       "  <th>group1</th> <th>group2</th>    <th>meandiff</th>     <th>p-adj</th>      <th>lower</th>           <th>upper</th>     <th>reject</th>\n",
       "</tr>\n",
       "<tr>\n",
       "     <td>G</td>    <td>NC-17</td> <td>-46369385.0385</td> <td>0.9774</td> <td>-226164092.8997</td> <td>133425322.8227</td>  <td>False</td>\n",
       "</tr>\n",
       "<tr>\n",
       "     <td>G</td>     <td>NR</td>   <td>-45834933.4391</td> <td>0.7031</td> <td>-136785514.0573</td>  <td>45115647.1791</td>  <td>False</td>\n",
       "</tr>\n",
       "<tr>\n",
       "     <td>G</td>     <td>PG</td>    <td>41493482.1333</td> <td>0.8326</td> <td>-56505112.7111</td>  <td>139492076.9776</td>  <td>False</td>\n",
       "</tr>\n",
       "<tr>\n",
       "     <td>G</td>    <td>PG-13</td>  <td>23538469.1336</td> <td>0.9793</td>  <td>-69571010.126</td>  <td>116647948.3932</td>  <td>False</td>\n",
       "</tr>\n",
       "<tr>\n",
       "     <td>G</td>      <td>R</td>   <td>-27942730.1027</td> <td>0.9505</td> <td>-118267432.2765</td>  <td>62381972.0711</td>  <td>False</td>\n",
       "</tr>\n",
       "<tr>\n",
       "   <td>NC-17</td>   <td>NR</td>     <td>534451.5993</td>    <td>1.0</td>  <td>-158794909.5894</td>  <td>159863812.788</td>  <td>False</td>\n",
       "</tr>\n",
       "<tr>\n",
       "   <td>NC-17</td>   <td>PG</td>    <td>87862867.1717</td> <td>0.6417</td> <td>-75592208.6549</td>  <td>251317942.9983</td>  <td>False</td>\n",
       "</tr>\n",
       "<tr>\n",
       "   <td>NC-17</td>  <td>PG-13</td>  <td>69907854.172</td>  <td>0.8154</td> <td>-90663663.6946</td>  <td>230479372.0387</td>  <td>False</td>\n",
       "</tr>\n",
       "<tr>\n",
       "   <td>NC-17</td>    <td>R</td>    <td>18426654.9358</td> <td>0.9995</td> <td>-140546264.2825</td>  <td>177399574.154</td>  <td>False</td>\n",
       "</tr>\n",
       "<tr>\n",
       "    <td>NR</td>     <td>PG</td>    <td>87328415.5724</td>   <td>0.0</td>   <td>35719957.4151</td>  <td>138936873.7296</td>  <td>True</td> \n",
       "</tr>\n",
       "<tr>\n",
       "    <td>NR</td>    <td>PG-13</td>  <td>69373402.5727</td>   <td>0.0</td>   <td>27791152.8754</td>   <td>110955652.27</td>   <td>True</td> \n",
       "</tr>\n",
       "<tr>\n",
       "    <td>NR</td>      <td>R</td>    <td>17892203.3364</td> <td>0.6875</td> <td>-17011380.7872</td>   <td>52795787.4601</td>  <td>False</td>\n",
       "</tr>\n",
       "<tr>\n",
       "    <td>PG</td>    <td>PG-13</td> <td>-17955012.9997</td> <td>0.9397</td>  <td>-73279509.984</td>   <td>37369483.9847</td>  <td>False</td>\n",
       "</tr>\n",
       "<tr>\n",
       "    <td>PG</td>      <td>R</td>    <td>-69436212.236</td> <td>0.0013</td> <td>-119933505.8403</td> <td>-18938918.6316</td>  <td>True</td> \n",
       "</tr>\n",
       "<tr>\n",
       "   <td>PG-13</td>    <td>R</td>   <td>-51481199.2363</td> <td>0.0036</td> <td>-91676064.5536</td>  <td>-11286333.9189</td>  <td>True</td> \n",
       "</tr>\n",
       "</table>"
      ],
      "text/plain": [
       "<class 'statsmodels.iolib.table.SimpleTable'>"
      ]
     },
     "execution_count": 21,
     "metadata": {},
     "output_type": "execute_result"
    }
   ],
   "source": [
    "# perform tukey's multiple comparison test \n",
    "tukeys_results = pairwise_tukeyhsd(values,labels)\n",
    "tukeys_results.summary()"
   ]
  },
  {
   "cell_type": "markdown",
   "id": "779ccd8b",
   "metadata": {},
   "source": [
    "##  Results\n",
    "-  In this case we will reject the null hypothesis and support the alternative Hypothesis.\n",
    " *  We can see that in the cases of *PG* and *PG-13*, versus *R* and *NC-17*, that there is indeed significant statistical evidence to reject the *Null Hypothesis*. "
   ]
  },
  {
   "cell_type": "markdown",
   "id": "b6fd3733",
   "metadata": {},
   "source": [
    "##  Hypothesis test 2\n",
    "1. Null Hypothesis: There is no difference in *popularity*, based on *budget*.\n",
    "1. Alternative Hypothesis: There is a significant statistical correlation between *budget* and *popularity*.\n",
    "  * Is our spending an indicator of how well received our Movies will be by the audience?    \n",
    "  ##  T-Test"
   ]
  },
  {
   "cell_type": "code",
   "execution_count": 30,
   "id": "c47169e3",
   "metadata": {},
   "outputs": [
    {
     "name": "stdout",
     "output_type": "stream",
     "text": [
      "<class 'pandas.core.series.Series'>\n",
      "Int64Index: 974 entries, 1 to 622\n",
      "Series name: popularity\n",
      "Non-Null Count  Dtype  \n",
      "--------------  -----  \n",
      "974 non-null    float64\n",
      "dtypes: float64(1)\n",
      "memory usage: 47.5 KB\n"
     ]
    }
   ],
   "source": [
    "df['popularity'].info()"
   ]
  },
  {
   "cell_type": "code",
   "execution_count": 31,
   "id": "a14bd40a",
   "metadata": {},
   "outputs": [
    {
     "data": {
      "text/plain": [
       "11.981315195071868"
      ]
     },
     "execution_count": 31,
     "metadata": {},
     "output_type": "execute_result"
    }
   ],
   "source": [
    "np.mean(df['popularity'])"
   ]
  },
  {
   "cell_type": "code",
   "execution_count": 43,
   "id": "11f1c82c",
   "metadata": {},
   "outputs": [
    {
     "name": "stdout",
     "output_type": "stream",
     "text": [
      " Low Popularity (n=69): Mean=535397.41\n",
      " High Popularity (n=31): Mean=14274193.55\n"
     ]
    }
   ],
   "source": [
    "sample = df.sample(n=100,random_state=42)\n",
    "low_pop = sample.loc[sample['popularity'] < 11.98,\"budget\"]\n",
    "high_pop = sample.loc[sample['popularity'] > 11.98,\"budget\"]\n",
    "print(f\" Low Popularity (n={len(low_pop)}): Mean={np.mean(low_pop):.2f}\")\n",
    "print(f\" High Popularity (n={len(high_pop)}): Mean={np.mean(high_pop):.2f}\")"
   ]
  },
  {
   "cell_type": "code",
   "execution_count": 44,
   "id": "f3527005",
   "metadata": {},
   "outputs": [
    {
     "data": {
      "text/plain": [
       "1"
      ]
     },
     "execution_count": 44,
     "metadata": {},
     "output_type": "execute_result"
    }
   ],
   "source": [
    "zscores_f = stats.zscore(high_pop)\n",
    "outliers_f = abs(zscores_f)>3\n",
    "np.sum(outliers_f)"
   ]
  },
  {
   "cell_type": "code",
   "execution_count": 45,
   "id": "cf74e52b",
   "metadata": {},
   "outputs": [
    {
     "data": {
      "text/plain": [
       "1"
      ]
     },
     "execution_count": 45,
     "metadata": {},
     "output_type": "execute_result"
    }
   ],
   "source": [
    "zscores_m = stats.zscore(low_pop)\n",
    "outliers_m = abs(zscores_m)>3\n",
    "np.sum(outliers_m)"
   ]
  },
  {
   "cell_type": "code",
   "execution_count": 46,
   "id": "8941b931",
   "metadata": {},
   "outputs": [],
   "source": [
    "# remove outliers from high_pop group\n",
    "high_pop = high_pop[(np.abs(stats.zscore(high_pop)) < 3)]"
   ]
  },
  {
   "cell_type": "code",
   "execution_count": 48,
   "id": "733f79fa",
   "metadata": {},
   "outputs": [],
   "source": [
    "# remove outliers from low_pop group\n",
    "low_pop = low_pop[(np.abs(stats.zscore(low_pop)) < 3)]"
   ]
  },
  {
   "cell_type": "code",
   "execution_count": 49,
   "id": "c8657913",
   "metadata": {},
   "outputs": [
    {
     "data": {
      "text/plain": [
       "NormaltestResult(statistic=37.26503304647268, pvalue=8.090975572372297e-09)"
      ]
     },
     "execution_count": 49,
     "metadata": {},
     "output_type": "execute_result"
    }
   ],
   "source": [
    "# test the high_pop group for normality\n",
    "results_high_pop = stats.normaltest(high_pop)\n",
    "results_high_pop"
   ]
  },
  {
   "cell_type": "code",
   "execution_count": 50,
   "id": "cedc2b5b",
   "metadata": {},
   "outputs": [
    {
     "data": {
      "text/plain": [
       "NormaltestResult(statistic=120.55988115772422, pvalue=6.618421728794096e-27)"
      ]
     },
     "execution_count": 50,
     "metadata": {},
     "output_type": "execute_result"
    }
   ],
   "source": [
    "# test the low_pop group for normality\n",
    "result_low_pop = stats.normaltest(low_pop)\n",
    "result_low_pop"
   ]
  },
  {
   "cell_type": "code",
   "execution_count": 51,
   "id": "299c41b2",
   "metadata": {},
   "outputs": [
    {
     "data": {
      "text/plain": [
       "LeveneResult(statistic=13.267392950239921, pvalue=0.0004399014294662684)"
      ]
     },
     "execution_count": 51,
     "metadata": {},
     "output_type": "execute_result"
    }
   ],
   "source": [
    "result = stats.levene(high_pop, low_pop)\n",
    "result"
   ]
  },
  {
   "cell_type": "code",
   "execution_count": 52,
   "id": "69cf281e",
   "metadata": {},
   "outputs": [
    {
     "data": {
      "text/plain": [
       "Ttest_indResult(statistic=2.4215708114823413, pvalue=0.021936988734095105)"
      ]
     },
     "execution_count": 52,
     "metadata": {},
     "output_type": "execute_result"
    }
   ],
   "source": [
    "# Independent t-test with equal_var set to False\n",
    "result = stats.ttest_ind(high_pop, low_pop, equal_var = False)\n",
    "result"
   ]
  },
  {
   "cell_type": "markdown",
   "id": "a319a8d0",
   "metadata": {},
   "source": [
    "##  Results\n",
    "\n",
    "-  Our P-Value (.0219) is less than the threshold of .05, therefore we can *NOT* reject our *Null Hypothesis* \n",
    " *  It seems unlikely that our stakeholder will be able to simply \"Spend Their Way\" to making more popular movies."
   ]
  },
  {
   "cell_type": "code",
   "execution_count": 70,
   "id": "a0127be6",
   "metadata": {},
   "outputs": [
    {
     "data": {
      "image/png": "[encoded data removed]",
      "text/plain": [
       "<Figure size 500x500 with 1 Axes>"
      ]
     },
     "metadata": {},
     "output_type": "display_data"
    }
   ],
   "source": [
    "g = sns.lmplot(data=df, x=\"popularity\", y=\"budget\",\n",
    "               scatter_kws=scatter_kws);\n",
    "g.ax.set_title(\"Popularity VS Budget \");"
   ]
  },
  {
   "cell_type": "markdown",
   "id": "63d88b46",
   "metadata": {},
   "source": [
    "##  Hypothesis Test 3\n",
    "1. Null Hypothesis: there will be no difference in *revenue* related to a movie's *popularity*.\n",
    "1. Alternative Hypothesis: A movie's *popularity* will have a direct impact on its *revenue*.\n",
    "##  T-Test"
   ]
  },
  {
   "cell_type": "code",
   "execution_count": 53,
   "id": "24a0b9c8",
   "metadata": {},
   "outputs": [
    {
     "name": "stdout",
     "output_type": "stream",
     "text": [
      " Low Popularity (n=69): Mean=561300.48\n",
      " High Popularity (n=31): Mean=63955766.13\n"
     ]
    }
   ],
   "source": [
    "sample = df.sample(n=100,random_state=42)\n",
    "low_pop = sample.loc[sample['popularity'] < 11.98,\"revenue\"]\n",
    "high_pop = sample.loc[sample['popularity'] > 11.98,\"revenue\"]\n",
    "print(f\" Low Popularity (n={len(low_pop)}): Mean={np.mean(low_pop):.2f}\")\n",
    "print(f\" High Popularity (n={len(high_pop)}): Mean={np.mean(high_pop):.2f}\")"
   ]
  },
  {
   "cell_type": "code",
   "execution_count": 55,
   "id": "a1a6da79",
   "metadata": {},
   "outputs": [
    {
     "data": {
      "text/plain": [
       "1"
      ]
     },
     "execution_count": 55,
     "metadata": {},
     "output_type": "execute_result"
    }
   ],
   "source": [
    "zscores_h = stats.zscore(high_pop)\n",
    "outliers_h = abs(zscores_h)>3\n",
    "np.sum(outliers_h)"
   ]
  },
  {
   "cell_type": "code",
   "execution_count": 56,
   "id": "b3119759",
   "metadata": {
    "scrolled": true
   },
   "outputs": [
    {
     "data": {
      "text/plain": [
       "1"
      ]
     },
     "execution_count": 56,
     "metadata": {},
     "output_type": "execute_result"
    }
   ],
   "source": [
    "zscores_l = stats.zscore(low_pop)\n",
    "outliers_l = abs(zscores_l)>3\n",
    "np.sum(outliers_l)"
   ]
  },
  {
   "cell_type": "code",
   "execution_count": 57,
   "id": "5fd046e5",
   "metadata": {},
   "outputs": [],
   "source": [
    "# remove outliers from high_pop group\n",
    "high_pop = high_pop[(np.abs(stats.zscore(high_pop)) < 3)]"
   ]
  },
  {
   "cell_type": "code",
   "execution_count": 58,
   "id": "ec9351a9",
   "metadata": {},
   "outputs": [],
   "source": [
    "# remove outliers from low_pop group\n",
    "low_pop = low_pop[(np.abs(stats.zscore(low_pop)) < 3)]"
   ]
  },
  {
   "cell_type": "code",
   "execution_count": 59,
   "id": "070220fc",
   "metadata": {},
   "outputs": [
    {
     "data": {
      "text/plain": [
       "NormaltestResult(statistic=51.86802345811007, pvalue=5.457601387274433e-12)"
      ]
     },
     "execution_count": 59,
     "metadata": {},
     "output_type": "execute_result"
    }
   ],
   "source": [
    "# test the high_pop group for normality\n",
    "results_high_pop = stats.normaltest(high_pop)\n",
    "results_high_pop"
   ]
  },
  {
   "cell_type": "code",
   "execution_count": 60,
   "id": "0ee93c58",
   "metadata": {},
   "outputs": [
    {
     "data": {
      "text/plain": [
       "NormaltestResult(statistic=114.96817928782137, pvalue=1.0838696871019303e-25)"
      ]
     },
     "execution_count": 60,
     "metadata": {},
     "output_type": "execute_result"
    }
   ],
   "source": [
    "# test the low_pop group for normality\n",
    "result_low_pop = stats.normaltest(low_pop)\n",
    "result_low_pop"
   ]
  },
  {
   "cell_type": "code",
   "execution_count": 61,
   "id": "530e4c85",
   "metadata": {
    "scrolled": true
   },
   "outputs": [
    {
     "data": {
      "text/plain": [
       "LeveneResult(statistic=8.135001936009754, pvalue=0.005316964177030877)"
      ]
     },
     "execution_count": 61,
     "metadata": {},
     "output_type": "execute_result"
    }
   ],
   "source": [
    "result = stats.levene(high_pop, low_pop)\n",
    "result"
   ]
  },
  {
   "cell_type": "code",
   "execution_count": 62,
   "id": "20d8deab",
   "metadata": {},
   "outputs": [
    {
     "data": {
      "text/plain": [
       "Ttest_indResult(statistic=1.8822826014755074, pvalue=0.06986516791801375)"
      ]
     },
     "execution_count": 62,
     "metadata": {},
     "output_type": "execute_result"
    }
   ],
   "source": [
    "# Independent t-test with equal_var set to False\n",
    "result = stats.ttest_ind(high_pop, low_pop, equal_var = False)\n",
    "result"
   ]
  },
  {
   "cell_type": "markdown",
   "id": "e7ebdbcf",
   "metadata": {},
   "source": [
    "##  Results\n",
    "-  With a P-Value (.069) greater than our 0.05 threshold, we can *reject* the Null hypothesis, in support of our Alternative Hypothesis.\n",
    " *  It appears Likely that a more popular movie will garner higher revenue.(duh).\n",
    " * More analysis is needed to determine a formula for making a movie more *popular*."
   ]
  },
  {
   "cell_type": "code",
   "execution_count": 69,
   "id": "93bdd726",
   "metadata": {},
   "outputs": [
    {
     "data": {
      "image/png": "[encoded data removed]",
      "text/plain": [
       "<Figure size 500x500 with 1 Axes>"
      ]
     },
     "metadata": {},
     "output_type": "display_data"
    }
   ],
   "source": [
    "g = sns.lmplot(data=df, x=\"popularity\", y=\"revenue\",\n",
    "               scatter_kws=scatter_kws);\n",
    "g.ax.set_title(\"Popularity VS Revenue \");"
   ]
  },
  {
   "cell_type": "markdown",
   "id": "63130aa5",
   "metadata": {},
   "source": [
    "## Submission"
   ]
  }
 ],
 "metadata": {
  "kernelspec": {
   "display_name": "Python (dojo-env)",
   "language": "python",
   "name": "dojo-env"
  },
  "language_info": {
   "codemirror_mode": {
    "name": "ipython",
    "version": 3
   },
   "file_extension": ".py",
   "mimetype": "text/x-python",
   "name": "python",
   "nbconvert_exporter": "python",
   "pygments_lexer": "ipython3",
   "version": "3.9.15"
  },
  "toc": {
   "base_numbering": 1,
   "nav_menu": {},
   "number_sections": false,
   "sideBar": true,
   "skip_h1_title": false,
   "title_cell": "Table of Contents",
   "title_sidebar": "Contents",
   "toc_cell": false,
   "toc_position": {},
   "toc_section_display": true,
   "toc_window_display": false
  }
 },
 "nbformat": 4,
 "nbformat_minor": 5
}
